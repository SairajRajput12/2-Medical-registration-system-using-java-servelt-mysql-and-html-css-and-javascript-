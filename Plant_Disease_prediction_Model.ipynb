{
  "nbformat": 4,
  "nbformat_minor": 0,
  "metadata": {
    "colab": {
      "provenance": [],
      "gpuType": "T4",
      "authorship_tag": "ABX9TyPk1gkmc1q34cQMC1bqAY+v",
      "include_colab_link": true
    },
    "kernelspec": {
      "name": "python3",
      "display_name": "Python 3"
    },
    "language_info": {
      "name": "python"
    },
    "accelerator": "GPU"
  },
  "cells": [
    {
      "cell_type": "markdown",
      "metadata": {
        "id": "view-in-github",
        "colab_type": "text"
      },
      "source": [
        "<a href=\"https://colab.research.google.com/github/SairajRajput12/2-Medical-registration-system-using-java-servelt-mysql-and-html-css-and-javascript-/blob/main/Plant_Disease_prediction_Model.ipynb\" target=\"_parent\"><img src=\"https://colab.research.google.com/assets/colab-badge.svg\" alt=\"Open In Colab\"/></a>"
      ]
    },
    {
      "cell_type": "code",
      "execution_count": 1,
      "metadata": {
        "colab": {
          "base_uri": "https://localhost:8080/"
        },
        "id": "PCBYsg3imNlW",
        "outputId": "4c915304-33bc-4cb1-acbd-e21f777d6298"
      },
      "outputs": [
        {
          "output_type": "stream",
          "name": "stdout",
          "text": [
            "Requirement already satisfied: kaggle in /usr/local/lib/python3.10/dist-packages (1.6.17)\n",
            "Requirement already satisfied: six>=1.10 in /usr/local/lib/python3.10/dist-packages (from kaggle) (1.16.0)\n",
            "Requirement already satisfied: certifi>=2023.7.22 in /usr/local/lib/python3.10/dist-packages (from kaggle) (2024.8.30)\n",
            "Requirement already satisfied: python-dateutil in /usr/local/lib/python3.10/dist-packages (from kaggle) (2.8.2)\n",
            "Requirement already satisfied: requests in /usr/local/lib/python3.10/dist-packages (from kaggle) (2.32.3)\n",
            "Requirement already satisfied: tqdm in /usr/local/lib/python3.10/dist-packages (from kaggle) (4.66.5)\n",
            "Requirement already satisfied: python-slugify in /usr/local/lib/python3.10/dist-packages (from kaggle) (8.0.4)\n",
            "Requirement already satisfied: urllib3 in /usr/local/lib/python3.10/dist-packages (from kaggle) (2.2.3)\n",
            "Requirement already satisfied: bleach in /usr/local/lib/python3.10/dist-packages (from kaggle) (6.1.0)\n",
            "Requirement already satisfied: webencodings in /usr/local/lib/python3.10/dist-packages (from bleach->kaggle) (0.5.1)\n",
            "Requirement already satisfied: text-unidecode>=1.3 in /usr/local/lib/python3.10/dist-packages (from python-slugify->kaggle) (1.3)\n",
            "Requirement already satisfied: charset-normalizer<4,>=2 in /usr/local/lib/python3.10/dist-packages (from requests->kaggle) (3.3.2)\n",
            "Requirement already satisfied: idna<4,>=2.5 in /usr/local/lib/python3.10/dist-packages (from requests->kaggle) (3.10)\n"
          ]
        }
      ],
      "source": [
        "!pip install kaggle"
      ]
    },
    {
      "cell_type": "code",
      "source": [
        "import json\n",
        "kaggle_credentials = json.load(open(\"kaggle.json\"))\n"
      ],
      "metadata": {
        "id": "uOF0_x4ymhLi"
      },
      "execution_count": 2,
      "outputs": []
    },
    {
      "cell_type": "code",
      "source": [
        "import os\n",
        "os.environ['KAGGLE_USERNAME'] = kaggle_credentials['username']\n",
        "os.environ['KAGGLE_KEY'] = kaggle_credentials['key']"
      ],
      "metadata": {
        "id": "-0sna7j_o7YY"
      },
      "execution_count": 3,
      "outputs": []
    },
    {
      "cell_type": "code",
      "source": [
        "!kaggle datasets download -d abdallahalidev/plantvillage-dataset"
      ],
      "metadata": {
        "colab": {
          "base_uri": "https://localhost:8080/"
        },
        "id": "o783Lp_TpBe0",
        "outputId": "1888285b-3d92-4297-cd6f-155667d9dde1"
      },
      "execution_count": 4,
      "outputs": [
        {
          "output_type": "stream",
          "name": "stdout",
          "text": [
            "Dataset URL: https://www.kaggle.com/datasets/abdallahalidev/plantvillage-dataset\n",
            "License(s): CC-BY-NC-SA-4.0\n",
            "Downloading plantvillage-dataset.zip to /content\n",
            "100% 2.04G/2.04G [01:41<00:00, 23.5MB/s]\n",
            "100% 2.04G/2.04G [01:41<00:00, 21.5MB/s]\n"
          ]
        }
      ]
    },
    {
      "cell_type": "code",
      "source": [
        "import zipfile\n",
        "\n",
        "with zipfile.ZipFile('/content/plantvillage-dataset.zip', 'r') as zip_ref:\n",
        "    zip_ref.extractall()\n"
      ],
      "metadata": {
        "id": "EQMRwH3WpFjq"
      },
      "execution_count": 5,
      "outputs": []
    },
    {
      "cell_type": "code",
      "source": [
        "import os\n",
        "\n",
        "def count_files(directory):\n",
        "    return len([f for f in os.listdir(directory) if os.path.isfile(os.path.join(directory, f))])\n",
        "\n",
        "directory_path = \"/content/Apple/Apple___healthy\"\n",
        "file_count = count_files(directory_path)\n",
        "\n",
        "print(f\"Number of files in {directory_path}: {file_count}\")"
      ],
      "metadata": {
        "colab": {
          "base_uri": "https://localhost:8080/"
        },
        "id": "-j1UY6Owpw96",
        "outputId": "393a5ea9-caa5-481f-baaf-e22ada4cbb9c"
      },
      "execution_count": 15,
      "outputs": [
        {
          "output_type": "stream",
          "name": "stdout",
          "text": [
            "Number of files in /content/Apple/Apple___healthy: 275\n"
          ]
        }
      ]
    },
    {
      "cell_type": "code",
      "source": [
        "# Number of files in /content/Apple/Apple___Apple_scab: 630\n",
        "# Number of files in /content/Apple/Apple___Black_rot: 621\n",
        "# Number of files in /content/Apple/Apple___Cedar_apple_rust: 275\n",
        "# Number of files in /content/Apple/Apple___healthy: 1645\n",
        "import os\n",
        "import random\n",
        "\n",
        "# Define the dataset directory and the target number of images per class\n",
        "dataset_dir = \"/content/Apple\"\n",
        "target_size = 275  # You can adjust this based on the minimum class size\n",
        "\n",
        "# For each class (directory), randomly remove excess images\n",
        "for class_dir in os.listdir(dataset_dir):\n",
        "    class_path = os.path.join(dataset_dir, class_dir)\n",
        "\n",
        "    if os.path.isdir(class_path):\n",
        "        images = os.listdir(class_path)\n",
        "\n",
        "        # If the class has more than 275 images, randomly remove the excess\n",
        "        if len(images) > target_size:\n",
        "            images_to_remove = random.sample(images, len(images) - target_size)\n",
        "\n",
        "            for image in images_to_remove:\n",
        "                os.remove(os.path.join(class_path, image))\n",
        "\n",
        "            print(f\"Removed {len(images_to_remove)} images from class {class_dir}\")\n",
        "\n",
        "print(\"Dataset balanced to 275 images per class!\")\n",
        "\n",
        "\n",
        "\n"
      ],
      "metadata": {
        "colab": {
          "base_uri": "https://localhost:8080/"
        },
        "id": "OIBkKdOLrA5W",
        "outputId": "e1c5666d-62f5-4e96-bc4e-589f25ec4568"
      },
      "execution_count": 16,
      "outputs": [
        {
          "output_type": "stream",
          "name": "stdout",
          "text": [
            "Dataset balanced to 275 images per class!\n"
          ]
        }
      ]
    },
    {
      "cell_type": "code",
      "source": [],
      "metadata": {
        "id": "bT6Gj4wLsUfp"
      },
      "execution_count": null,
      "outputs": []
    }
  ]
}